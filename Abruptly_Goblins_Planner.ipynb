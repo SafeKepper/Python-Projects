{
  "cells": [
    {
      "cell_type": "markdown",
      "metadata": {
        "id": "view-in-github",
        "colab_type": "text"
      },
      "source": [
        "<a href=\"https://colab.research.google.com/github/SafeKepper/Cipher-without-modules/blob/main/Abruptly_Goblins_Planner.ipynb\" target=\"_parent\"><img src=\"https://colab.research.google.com/assets/colab-badge.svg\" alt=\"Open In Colab\"/></a>"
      ]
    },
    {
      "cell_type": "markdown",
      "metadata": {
        "id": "wZqLfvjfJAaG"
      },
      "source": [
        "# Introduction\n",
        "\n",
        "Opening your comic book store, the Sorcery Society, has been a lifelong dream come true. You quickly diversified your shop offerings to include miniatures, plush toys, collectible card games, and board games. Eventually, the store became more a games store with a selection of this week's newest comic books and a small offering of graphic novel paperbacks. Completing your transformation means offering space for local tabletop gamers. They love to play their favorite RPG, \"Abruptly Goblins!\" and will happily pay you per chair to secure the space to do it. Unfortunately, planning the game night has fallen to you. If you pick the wrong night, not enough people will come and the game night will be cancelled. You decide it's best that you automate the game night selector to get the most people through the door. First you need to create a list of people who will be attending the game night.\n",
        "\n",
        "**Instructions**\n",
        "\n",
        "Create an empty list called `gamers`. This will be your list of people who are attending game night."
      ]
    },
    {
      "cell_type": "code",
      "execution_count": 57,
      "metadata": {
        "id": "EWm8gm1-JAaH"
      },
      "outputs": [],
      "source": [
        "gamers = list()"
      ]
    },
    {
      "cell_type": "markdown",
      "metadata": {
        "id": "fiP7fAdpJAaH"
      },
      "source": [
        "Now we want to create a function that will update this list and add a new gamer to the this `gamers` list. Each `gamer` should be a dictionary with the following keys:\n",
        " - `\"name\"`: a string that contains the gamer's full or presumed name. E.g., \"Vicky Very\"\n",
        " - `\"availability\"`: a list of strings containing the names of the days of the week that the gamer is available. E.g., [\"Monday\", \"Thursday\", \"Sunday\"]\n",
        "\n",
        "**Instructions**\n",
        "\n",
        "Create a function called `add_gamer` that takes two parameters: `gamer` and `gamers_list`. The function should check that the argument passed to the `gamer` parameter has both `\"name\"` and a `\"availability\"` as keys and if so add `gamer` to `gamers_list`."
      ]
    },
    {
      "cell_type": "code",
      "execution_count": 58,
      "metadata": {
        "id": "sj92sIoYJAaH"
      },
      "outputs": [],
      "source": [
        "def add_gamer(gamer, gamers_list):\n",
        "  check_key, check_value = gamer.get(\"name\", False), gamer.get(\"availability\", False)\n",
        "  if check_key != False and check_value != False:\n",
        "    gamers.append(gamer)\n",
        "  else:\n",
        "    print(\"Not Done\")\n",
        "    return 0\n",
        "\n"
      ]
    },
    {
      "cell_type": "markdown",
      "metadata": {
        "id": "wue5LSaQJAaH"
      },
      "source": [
        "Next we want to add our first gamer! Her name is Kimberly Warner and she's available on Mondays, Tuesdays, and Fridays.\n",
        "\n",
        "**Instructions**\n",
        "\n",
        "1. Create a dictionary called `kimberly` with the name and availability given above.\n",
        "2. Call `add_gamer` with `kimberly` as the first argument and `gamers` as the second."
      ]
    },
    {
      "cell_type": "code",
      "execution_count": 59,
      "metadata": {
        "colab": {
          "base_uri": "https://localhost:8080/"
        },
        "id": "sQU56U5-JAaI",
        "outputId": "850fdd46-648b-4839-aaf6-5d31c654b817"
      },
      "outputs": [
        {
          "output_type": "stream",
          "name": "stdout",
          "text": [
            "[{'name': 'Kimberly Warner', 'availability': ['Monday', 'Tuesday', 'Friday']}]\n"
          ]
        }
      ],
      "source": [
        "kimberly = {\"name\":\"Kimberly Warner\", \"availability\": [\"Monday\", \"Tuesday\", \"Friday\"]}\n",
        "add_gamer(kimberly, gamers)\n",
        "print(gamers)"
      ]
    },
    {
      "cell_type": "markdown",
      "metadata": {
        "id": "b7k8Gxn8JAaI"
      },
      "source": [
        "Great! Let's add a couple more gamers to the list!"
      ]
    },
    {
      "cell_type": "code",
      "execution_count": 60,
      "metadata": {
        "id": "YaQEi4GKJAaI"
      },
      "outputs": [],
      "source": [
        "add_gamer({'name':'Thomas Nelson','availability': [\"Tuesday\", \"Thursday\", \"Saturday\"]}, gamers)\n",
        "add_gamer({'name':'Joyce Sellers','availability': [\"Monday\", \"Wednesday\", \"Friday\", \"Saturday\"]}, gamers)\n",
        "add_gamer({'name':'Michelle Reyes','availability': [\"Wednesday\", \"Thursday\", \"Sunday\"]}, gamers)\n",
        "add_gamer({'name':'Stephen Adams','availability': [\"Thursday\", \"Saturday\"]}, gamers)\n",
        "add_gamer({'name': 'Joanne Lynn', 'availability': [\"Monday\", \"Thursday\"]}, gamers)\n",
        "add_gamer({'name':'Latasha Bryan','availability': [\"Monday\", \"Sunday\"]}, gamers)\n",
        "add_gamer({'name':'Crystal Brewer','availability': [\"Thursday\", \"Friday\", \"Saturday\"]}, gamers)\n",
        "add_gamer({'name':'James Barnes Jr.','availability': [\"Tuesday\", \"Wednesday\", \"Thursday\", \"Sunday\"]}, gamers)\n",
        "add_gamer({'name':'Michel Trujillo','availability': [\"Monday\", \"Tuesday\", \"Wednesday\"]}, gamers)"
      ]
    },
    {
      "cell_type": "code",
      "source": [
        "gamers"
      ],
      "metadata": {
        "colab": {
          "base_uri": "https://localhost:8080/"
        },
        "id": "3cUIs_8mPXr_",
        "outputId": "eaa9ee43-e205-4070-a2d1-8b9ff243be2e"
      },
      "execution_count": 61,
      "outputs": [
        {
          "output_type": "execute_result",
          "data": {
            "text/plain": [
              "[{'name': 'Kimberly Warner', 'availability': ['Monday', 'Tuesday', 'Friday']},\n",
              " {'name': 'Thomas Nelson',\n",
              "  'availability': ['Tuesday', 'Thursday', 'Saturday']},\n",
              " {'name': 'Joyce Sellers',\n",
              "  'availability': ['Monday', 'Wednesday', 'Friday', 'Saturday']},\n",
              " {'name': 'Michelle Reyes',\n",
              "  'availability': ['Wednesday', 'Thursday', 'Sunday']},\n",
              " {'name': 'Stephen Adams', 'availability': ['Thursday', 'Saturday']},\n",
              " {'name': 'Joanne Lynn', 'availability': ['Monday', 'Thursday']},\n",
              " {'name': 'Latasha Bryan', 'availability': ['Monday', 'Sunday']},\n",
              " {'name': 'Crystal Brewer',\n",
              "  'availability': ['Thursday', 'Friday', 'Saturday']},\n",
              " {'name': 'James Barnes Jr.',\n",
              "  'availability': ['Tuesday', 'Wednesday', 'Thursday', 'Sunday']},\n",
              " {'name': 'Michel Trujillo',\n",
              "  'availability': ['Monday', 'Tuesday', 'Wednesday']}]"
            ]
          },
          "metadata": {},
          "execution_count": 61
        }
      ]
    },
    {
      "cell_type": "markdown",
      "metadata": {
        "id": "hoZL9EJRJAaI"
      },
      "source": [
        "## Finding the perfect availability\n",
        "\n",
        "Now that we have a list of all of the people interested in game night, we want to be able to calculate which nights would have the most participation. First we need to create a frequency table which correlates each day of the week with gamer availability.\n",
        "\n",
        "**Instructions**\n",
        "\n",
        "Create a function called `build_daily_frequency_table` that takes no argument returns a dictionary with the days of the week as keys and `0`s for values. We'll be using this to count the availability per night. Call `build_daily_frequency_table` and save the results to a variable called `count_availability`."
      ]
    },
    {
      "cell_type": "code",
      "execution_count": 144,
      "metadata": {
        "id": "FHY_Hpd5JAaI"
      },
      "outputs": [],
      "source": [
        "def calculate_availability(gamers):\n",
        "  day_avail_freq = {}\n",
        "  for i in gamers:\n",
        "    for key,value in i.items():\n",
        "      if key == \"availability\":\n",
        "        for day in value:\n",
        "          if not day_avail_freq.get(day, False):\n",
        "            day_avail_freq[day] = 0\n",
        "          day_avail_freq[day] += 1\n",
        "  return day_avail_freq\n",
        "\n",
        "def calculate_availability(gamers):\n",
        "  day_avail_freq = {}\n",
        "  for i in gamers:\n",
        "    for key,value in i.items():\n",
        "      if key == \"availability\":\n",
        "        for day in value:\n",
        "          if not day_avail_freq.get(day, False):\n",
        "            day_avail_freq[day] = 0\n",
        "          day_avail_freq[day] += 1\n",
        "  return day_avail_freq\n",
        "\n",
        "\n",
        "\n"
      ]
    },
    {
      "cell_type": "markdown",
      "metadata": {
        "id": "3dLZYNpHJAaI"
      },
      "source": [
        "Next we need to count the number of people every night.\n",
        "\n",
        "**Instructions**\n",
        "\n",
        "Write a function called `calculate_availability` that takes a list of gamers as an argument `gamers_list` and a frequency table `available_frequency`. The function should iterate through each gamer in `gamers_list` and iterate through each day in the gamer's availability. For each day in the gamer's availability, add one to that date on the frequency table."
      ]
    },
    {
      "cell_type": "code",
      "execution_count": 73,
      "metadata": {
        "id": "gQlBEkoTJAaJ"
      },
      "outputs": [],
      "source": [
        "#Made a single def :   calculate_availability + build_daily_frequency_table"
      ]
    },
    {
      "cell_type": "markdown",
      "metadata": {
        "id": "-YVX3jrLJAaJ"
      },
      "source": [
        "Now let's use these tools to find the best night to run Abruptly Goblins!\n",
        "\n",
        "**Instructions**\n",
        "\n",
        "Call `calculate_availability` with `gamers` and `count_availability`. Print out `count_availability` afterwards."
      ]
    },
    {
      "cell_type": "code",
      "execution_count": 74,
      "metadata": {
        "scrolled": true,
        "colab": {
          "base_uri": "https://localhost:8080/"
        },
        "id": "wBG1W2vxJAaJ",
        "outputId": "53d922cd-3205-46c8-bca4-5a97bb789c67"
      },
      "outputs": [
        {
          "output_type": "stream",
          "name": "stdout",
          "text": [
            "{'Monday': 5, 'Tuesday': 4, 'Friday': 3, 'Thursday': 6, 'Saturday': 4, 'Wednesday': 4, 'Sunday': 3}\n"
          ]
        }
      ],
      "source": [
        "count_availability = calculate_availability(gamers)\n",
        "print(count_availability)"
      ]
    },
    {
      "cell_type": "markdown",
      "metadata": {
        "id": "GgOxD-9zJAaJ"
      },
      "source": [
        "Lastly we need a way to pick the day with the most available people to attend so that we can schedule game night on that night.\n",
        "\n",
        "**Instructions**\n",
        "\n",
        "Write a function `find_best_night` that takes a dictionary `availability_table` and returns the key with the highest number."
      ]
    },
    {
      "cell_type": "code",
      "execution_count": 111,
      "metadata": {
        "id": "UPFM80PLJAaJ"
      },
      "outputs": [],
      "source": [
        "def find_best_night(availability_table):\n",
        "  max = 0\n",
        "  for key, value in availability_table.items():\n",
        "    if availability_table[key] > max:\n",
        "      max = availability_table[key]\n",
        "  val = {i for i in availability_table.keys() if availability_table[i] == max}\n",
        "  return str(val).strip('{}').strip('\\'')\n",
        "\n"
      ]
    },
    {
      "cell_type": "markdown",
      "metadata": {
        "id": "yRSj3FfHJAaJ"
      },
      "source": [
        "Now let's find the best day to host game night.\n",
        "\n",
        "**Instructions**\n",
        "\n",
        "Call `find_best_night` with `count_availability`, store the result in a variable called `game_night`.\n",
        "Print out `game_night` to find out which day it is."
      ]
    },
    {
      "cell_type": "code",
      "execution_count": 114,
      "metadata": {
        "colab": {
          "base_uri": "https://localhost:8080/"
        },
        "id": "Wpr1XkV9JAaJ",
        "outputId": "f85ce337-8a3c-4c29-81a5-e01385a774f7"
      },
      "outputs": [
        {
          "output_type": "stream",
          "name": "stdout",
          "text": [
            "Thursday\n"
          ]
        }
      ],
      "source": [
        "game_night = find_best_night(count_availability)\n",
        "type(game_night)\n",
        "print(game_night)"
      ]
    },
    {
      "cell_type": "markdown",
      "metadata": {
        "id": "4VjdP4SPJAaJ"
      },
      "source": [
        "And let's make a list of all of the people who are available that night.\n",
        "\n",
        "**Instructions**\n",
        "\n",
        "* Create a function `available_on_night` that takes two parameters: `gamers_list` and `day` and returns a list of people who are available on that particular day.\n",
        "* Call `available_on_night` with `gamers` and `game_night` and save the result into the variable `attending_game_night`.\n",
        "* Print `attending_game_night`."
      ]
    },
    {
      "cell_type": "code",
      "execution_count": 119,
      "metadata": {
        "id": "WqQAT7J4JAaJ"
      },
      "outputs": [],
      "source": [
        "def available_on_night(gamers_list, day):\n",
        "  available_that_night = []\n",
        "  for element in gamers_list:\n",
        "    if day in element.get(\"availability\", False):\n",
        "      available_that_night.append(element.get(\"name\"))\n",
        "  return available_that_night\n",
        "\n",
        "attending_game_night = available_on_night(gamers, game_night)\n",
        "\n"
      ]
    },
    {
      "cell_type": "markdown",
      "metadata": {
        "id": "8X1l5H-SJAaJ"
      },
      "source": [
        "## Generating an E-mail for the Participants\n",
        "\n",
        "With the best day for Abruptly Goblins! determined with computer precision, we need to let the attendees know that the game night is on a night they can attend. Let's start by creating a form email to send to each of the participants that we'll fill out with data later.\n",
        "\n",
        "**Instructions**\n",
        "\n",
        "Define a string, called `form_email` with interpolation variables `{name}`, `{day_of_week}`, and `{game}` (in case we decide we want to use this featureset to host a different game night). Use it to tell your gaming attendees the night their Abruptly Goblins! game can be played."
      ]
    },
    {
      "cell_type": "code",
      "execution_count": 116,
      "metadata": {
        "id": "eDSypKiNJAaJ"
      },
      "outputs": [],
      "source": [
        "form_email = \"Hi, {} we are holding a gamers night this week on {} and the game {}. Book your seats!\""
      ]
    },
    {
      "cell_type": "markdown",
      "metadata": {
        "id": "6lkqbZAXJAaJ"
      },
      "source": [
        "**Instructions**\n",
        "\n",
        "Create a function `send_email` with three parameters: `gamers_who_can_attend`, `day`, and `game`. Print `form_email` for each gamer in `gamers_who_can_attend` with the appropriate `day` and `game`.\n",
        "Call `send_email` with `attending_game_night`, `game_night`, and `\"Abruptly Goblins!\"`."
      ]
    },
    {
      "cell_type": "code",
      "execution_count": 120,
      "metadata": {
        "colab": {
          "base_uri": "https://localhost:8080/"
        },
        "id": "muAV6Y_0JAaK",
        "outputId": "69b21f65-c40f-44ea-caf5-0e904a72b483"
      },
      "outputs": [
        {
          "output_type": "stream",
          "name": "stdout",
          "text": [
            "Hi, Thomas Nelson we are holding a gamers night this week on Thursday and the game Abruptly Goblins!. Book your seats!\n",
            "Hi, Michelle Reyes we are holding a gamers night this week on Thursday and the game Abruptly Goblins!. Book your seats!\n",
            "Hi, Stephen Adams we are holding a gamers night this week on Thursday and the game Abruptly Goblins!. Book your seats!\n",
            "Hi, Joanne Lynn we are holding a gamers night this week on Thursday and the game Abruptly Goblins!. Book your seats!\n",
            "Hi, Crystal Brewer we are holding a gamers night this week on Thursday and the game Abruptly Goblins!. Book your seats!\n",
            "Hi, James Barnes Jr. we are holding a gamers night this week on Thursday and the game Abruptly Goblins!. Book your seats!\n"
          ]
        }
      ],
      "source": [
        "def send_email(gamers_who_can_attend, day, game):\n",
        "  for gamer in gamers_who_can_attend:\n",
        "    print(form_email.format(gamer, day, game))\n",
        "send_email(attending_game_night, game_night, \"Abruptly Goblins!\")"
      ]
    },
    {
      "cell_type": "markdown",
      "metadata": {
        "id": "I0Wh7K6RJAaK"
      },
      "source": [
        "### Afterward\n",
        "\n",
        "You feel bad for the folks who weren't able to attend on the decided upon game night, and try to use your currently written methods to have a second game night of the week.\n",
        "\n",
        "**Instructions**\n",
        "\n",
        "* Create a list `unable_to_attend_best_night` of everyone in `gamers` that wasn't able to attend game night on `game_night`.\n",
        "* Create `second_night_availability` frequency table by calling `build_daily_frequency_table`.\n",
        "* Call `calculate_availability` with `unable_to_attend_best_night` and `second_night_availability`.\n",
        "* Call `find_best_night` with the now filled-in `second_night_availability`, save the results in `second_night`.\n"
      ]
    },
    {
      "cell_type": "code",
      "execution_count": 153,
      "metadata": {
        "id": "3T3QJA6UJAaK"
      },
      "outputs": [],
      "source": [
        "unable_to_attend_best_night = [element for element in gamers if element.get(\"name\") not in available_on_night(gamers, game_night)]\n",
        "second_night_availability = calculate_availability(unable_to_attend_best_night)\n",
        "second_night = find_best_night(second_night_availability)\n",
        "attending_second_game_night = available_on_night(unable_to_attend_best_night, second_night)"
      ]
    },
    {
      "cell_type": "markdown",
      "metadata": {
        "id": "NcBaUZ_1JAaK"
      },
      "source": [
        "Let's send out an email to everyone (whether they can attend the first night or not) whose marked themselves as available on our second game night.\n",
        "\n",
        "**Instructions**\n",
        "\n",
        "* Create the list `available_second_game_night` by calling `available_on_night` with `gamers` and `second_night`\n",
        "* Let the gamers know by calling `send_email` with `available_second_game_night`, `second_night`, and \"Abruptly Goblins!\""
      ]
    },
    {
      "cell_type": "code",
      "execution_count": 154,
      "metadata": {
        "colab": {
          "base_uri": "https://localhost:8080/"
        },
        "id": "dZl6gCetJAaK",
        "outputId": "6bf28337-4c65-4f93-8c35-aea3d8a35751"
      },
      "outputs": [
        {
          "output_type": "stream",
          "name": "stdout",
          "text": [
            "Hi, Kimberly Warner we are holding a gamers night this week on Monday and the game Abruptly Goblins!. Book your seats!\n",
            "Hi, Joyce Sellers we are holding a gamers night this week on Monday and the game Abruptly Goblins!. Book your seats!\n",
            "Hi, Latasha Bryan we are holding a gamers night this week on Monday and the game Abruptly Goblins!. Book your seats!\n",
            "Hi, Michel Trujillo we are holding a gamers night this week on Monday and the game Abruptly Goblins!. Book your seats!\n"
          ]
        }
      ],
      "source": [
        "send_email(attending_second_game_night, second_night, \"Abruptly Goblins!\")"
      ]
    }
  ],
  "metadata": {
    "kernelspec": {
      "display_name": "Python 3",
      "language": "python",
      "name": "python3"
    },
    "language_info": {
      "codemirror_mode": {
        "name": "ipython",
        "version": 3
      },
      "file_extension": ".py",
      "mimetype": "text/x-python",
      "name": "python",
      "nbconvert_exporter": "python",
      "pygments_lexer": "ipython3",
      "version": "3.6.4"
    },
    "colab": {
      "provenance": [],
      "include_colab_link": true
    }
  },
  "nbformat": 4,
  "nbformat_minor": 0
}