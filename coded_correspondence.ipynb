{
  "cells": [
    {
      "cell_type": "markdown",
      "metadata": {
        "id": "m9tQoCBs6SoR"
      },
      "source": [
        "# Off-Platform Project: Coded Correspondence\n",
        "\n",
        "You and your pen pal, Vishal, have been exchanging letters for some time now. Recently, he has become interested in cryptography and the two of you have started sending encoded messages within your letters.\n",
        "\n",
        "In this project, you will use your Python skills to decipher the messages you receive and to encode your own responses! Put your programming skills to the test with these fun cryptography puzzles. Here is his most recent letter:\n",
        "\n",
        "    Hey there! How have you been? I've been great! I just learned about this really cool type of cipher called a Caesar Cipher. Here's how it works: You take your message, something like \"hello\" and then you shift all of the letters by a certain offset.\n",
        "\n",
        "    For example, if I chose an offset of 3 and a message of \"hello\", I would encode my message by shifting each letter 3 places to the left with respect to the alphabet. So \"h\" becomes \"e\", \"e\" becomes \"b\", \"l\" becomes \"i\", and \"o\" becomes \"l\". Then I have my encoded message, \"ebiil\"! Now I can send you my message and the offset and you can decode it by shifting each letter 3 places to the right. The best thing is that Julius Caesar himself used this cipher, that's why it's called the Caesar Cipher! Isn't that so cool! Okay, now I'm going to send you a longer encoded message that you have to decode yourself!\n",
        "    \n",
        "        xuo jxuhu! jxyi yi qd unqcfbu ev q squiqh syfxuh. muhu oek qrbu je tusetu yj? y xefu ie! iudt cu q cuiiqwu rqsa myjx jxu iqcu evviuj!\n",
        "    \n",
        "    This message has an offset of 10. Can you decode it?\n",
        "    \n",
        "\n",
        "#### Step 1: Decode Vishal's Message\n",
        "In the cell below, use your Python skills to decode Vishal's message and print the result."
      ]
    },
    {
      "cell_type": "markdown",
      "metadata": {
        "id": "V2_c1diD6SoT"
      },
      "source": [
        "Stuck? Open this cell to view Hints:\n",
        "\n",
        "<span hidden>\n",
        "You can account for shifts that go past the end of the alphabet using the modulus operator, but I'll let you figure out how!\n",
        "\n",
        "Watch out for spaces and punctuation! Your code should only shift characters that are in the alphabet.\n",
        "\n",
        "You'll want to find a way to represent the letters of the alphabet as numbers, where `a = 0`, `b = 1`, etc. Remember, the characters of a string can be accessed with integer indices.\n",
        "</span>"
      ]
    },
    {
      "cell_type": "code",
      "source": [
        "lst_letter = 'a b c d e f g h i j k l m n o p q r s t u v w x y z'.split(\" \")\n",
        "lst_alphabets = lst_letter"
      ],
      "metadata": {
        "id": "84IYan5Pmz3m"
      },
      "execution_count": 104,
      "outputs": []
    },
    {
      "cell_type": "code",
      "execution_count": 217,
      "metadata": {
        "colab": {
          "base_uri": "https://localhost:8080/"
        },
        "id": "O6G-jK1h6SoT",
        "outputId": "ae1bf40d-d5c6-4577-c548-99b1e3471e59"
      },
      "outputs": [
        {
          "output_type": "stream",
          "name": "stdout",
          "text": [
            "['a', 'b', 'c', 'd', 'e', 'f', 'g', 'h', 'i', 'j', 'k', 'l', 'm', 'n', 'o', 'p', 'q', 'r', 's', 't', 'u', 'v', 'w', 'x', 'y', 'z']\n",
            "b \n"
          ]
        }
      ],
      "source": [
        "print(lst_alphabets)\n",
        "# def decipher(lst):\n",
        "# print((lst_alphabets.index(\"u\") + 10) % 26)\n",
        "def decipher(lst, offset):\n",
        "  # lst = lst.split(\" \")\n",
        "  string = \"\"\n",
        "  offset = offset\n",
        "  for i in range(len(lst)):\n",
        "    for k in range(len(lst[i])):\n",
        "      if lst[i][k] not in lst_alphabets:\n",
        "        string += lst[i][k]\n",
        "      else:\n",
        "        for h in range (len(lst_alphabets)):\n",
        "          if lst[i][k] == lst_alphabets[h]:\n",
        "            indices = lst_alphabets.index(lst_alphabets[h]) + offset\n",
        "            if indices <= 25 and indices >= 0 :\n",
        "              string += lst_alphabets[indices]\n",
        "            elif indices > 25:\n",
        "              string += lst_alphabets[(lst_alphabets.index(lst_alphabets[h]) + offset) % 26]\n",
        "    string += \" \"\n",
        "  return string\n",
        "\n",
        "lst = \"d\".split(\" \")\n",
        "# # print(lst)\n",
        "print(decipher(lst, 24))\n"
      ]
    },
    {
      "cell_type": "markdown",
      "metadata": {
        "id": "pBV5PoA46SoU"
      },
      "source": [
        "#### Step 2: Send Vishal a Coded Message\n",
        "Great job! Now send Vishal back a message using the same offset. Your message can be anything you want! Remember, encoding happens in opposite direction of decoding."
      ]
    },
    {
      "cell_type": "code",
      "execution_count": 330,
      "metadata": {
        "id": "Ia0jx4jW6SoU",
        "colab": {
          "base_uri": "https://localhost:8080/"
        },
        "outputId": "f241b378-5388-4647-f680-addafb32951a"
      },
      "outputs": [
        {
          "output_type": "stream",
          "name": "stdout",
          "text": [
            "tksa oek \n"
          ]
        }
      ],
      "source": [
        "def cipher(lst, offset):\n",
        "  lst = lst.split(\" \")\n",
        "  string = \"\"\n",
        "  offset = offset\n",
        "  for i in range(len(lst)):\n",
        "    for k in range(len(lst[i])):\n",
        "      if lst[i][k] not in lst_alphabets:\n",
        "        string += lst[i][k]\n",
        "      else:\n",
        "        for h in range (len(lst_alphabets)):\n",
        "          if lst[i][k] == lst_alphabets[h]:\n",
        "            indices = lst_alphabets.index(lst_alphabets[h]) - offset\n",
        "            if indices <= 25 and indices >= 0 :\n",
        "              string += lst_alphabets[indices]\n",
        "            elif indices < 0:\n",
        "              string += lst_alphabets[(lst_alphabets.index(lst_alphabets[h]) - offset) % 26]\n",
        "    string += \" \"\n",
        "  return string\n",
        "\n",
        "print(cipher(\"duck you\", 10))"
      ]
    },
    {
      "cell_type": "code",
      "source": [
        "print(-7 % 26)"
      ],
      "metadata": {
        "colab": {
          "base_uri": "https://localhost:8080/"
        },
        "id": "ZIIT8EUPKxHl",
        "outputId": "2d85b160-a6c6-4705-c319-cb3213f50960"
      },
      "execution_count": 321,
      "outputs": [
        {
          "output_type": "stream",
          "name": "stdout",
          "text": [
            "19\n"
          ]
        }
      ]
    },
    {
      "cell_type": "markdown",
      "metadata": {
        "id": "h1jnFzHv6SoU"
      },
      "source": [
        "#### Step 3: Make functions for decoding and coding\n",
        "\n",
        "Vishal sent over another reply, this time with two coded messages!\n",
        "    \n",
        "    You're getting the hang of this! Okay here are two more messages, the first one is coded just like before with an offset of ten, and it contains a hint for decoding the second message!\n",
        "\n",
        "    First message:\n",
        "    \n",
        "        jxu evviuj veh jxu iusedt cuiiqwu yi vekhjuud.\n",
        "        \n",
        "    Second message:\n",
        "    \n",
        "        bqdradyuzs ygxfubxq omqemd oubtqde fa oapq kagd yqeemsqe ue qhqz yadq eqogdq!\n",
        "    \n",
        "Decode both of these messages.\n",
        "\n",
        "If you haven't already, define two functions `caesar_decode(message, offset)` and `caesar_encode(message, offset)` that can be used to quickly decode and encode messages given any offset."
      ]
    },
    {
      "cell_type": "code",
      "execution_count": 115,
      "metadata": {
        "id": "Dnf6RTIz6SoU",
        "colab": {
          "base_uri": "https://localhost:8080/"
        },
        "outputId": "c90f8700-47c6-42d1-a4dd-66e7d0173b14"
      },
      "outputs": [
        {
          "output_type": "stream",
          "name": "stdout",
          "text": [
            "the offset for the second message is fourteen. \n"
          ]
        }
      ],
      "source": [
        "print(decipher(\"jxu evviuj veh jxu iusedt cuiiqwu yi vekhjuud.\", 10))"
      ]
    },
    {
      "cell_type": "code",
      "execution_count": 118,
      "metadata": {
        "id": "4rItDoyi6SoU",
        "colab": {
          "base_uri": "https://localhost:8080/"
        },
        "outputId": "068f7cac-2db3-4067-b809-f23d4b8ab45e"
      },
      "outputs": [
        {
          "output_type": "stream",
          "name": "stdout",
          "text": [
            "performing multiple caesar ciphers to code your messages is even more secure! \n"
          ]
        }
      ],
      "source": [
        "print(decipher(\"bqdradyuzs ygxfubxq omqemd oubtqde fa oapq kagd yqeemsqe ue qhqz yadq eqogdq!\", 14))"
      ]
    },
    {
      "cell_type": "markdown",
      "metadata": {
        "id": "1Z77YrIm6SoU"
      },
      "source": [
        "#### Step 4: Solving a Caesar Cipher without knowing the shift value\n",
        "\n",
        "Awesome work! While you were working to decode his last two messages, Vishal sent over another letter! He's really been bitten by the crypto-bug. Read it and see what interesting task he has lined up for you this time.\n",
        "\n",
        "    Hello again friend! I knew you would love the Caesar Cipher, it's a cool, simple way to encrypt messages. Did you know that back in Caesar's time, it was considered a very secure way of communication and it took a lot of effort to crack if you were unaware of the value of the shift? That's all changed with computers! Now we can brute force these kinds of ciphers very quickly, as I'm sure you can imagine.\n",
        "            \n",
        "    To test your cryptography skills, this next coded message is going to be harder than the last couple to crack. It's still going to be coded with a Caesar Cipher but this time I'm not going to tell you the value of the shift. You'll have to brute force it yourself.\n",
        "            \n",
        "    Here's the coded message:\n",
        "            \n",
        "        vhfinmxkl atox kxgwxkxw tee hy maxlx hew vbiaxkl hulhexmx. px'ee atox mh kxteer lmxi ni hnk ztfx by px ptgm mh dxxi hnk fxlltzxl ltyx.\n",
        "            \n",
        "    Good luck!\n",
        "            \n",
        "Decode Vishal's most recent message and see what it says!"
      ]
    },
    {
      "cell_type": "markdown",
      "metadata": {
        "id": "J9lom40M6SoV"
      },
      "source": [
        "Stuck? Open this cell to view Hints:\n",
        "\n",
        "<span hidden>\n",
        "Since you don't know the cipher's offset, you'll need to try every possible option until you find the right one. Use a Python statement that will allow you to execute `caesar_decode()` multiple times with different `offset` arguments.\n",
        "</span>"
      ]
    },
    {
      "cell_type": "code",
      "execution_count": 119,
      "metadata": {
        "id": "FVxRNltk6SoV",
        "colab": {
          "base_uri": "https://localhost:8080/"
        },
        "outputId": "792a560e-a611-498e-a9f3-3203811e3b2e"
      },
      "outputs": [
        {
          "output_type": "stream",
          "name": "stdout",
          "text": [
            "vhfinmxkl atox kxgwxkxw tee hy maxlx hew vbiaxkl hulhexmx. px'ee atox mh kxteer lmxi ni hnk ztfx by px ptgm mh dxxi hnk fxlltzxl ltyx.  Try - 0\n",
            "wigjonylm bupy lyhxylyx uff iz nbymy ifx wcjbylm ivmifyny. qy'ff bupy ni lyuffs mnyj oj iol augy cz qy quhn ni eyyj iol gymmuaym muzy.  Try - 1\n",
            "xjhkpozmn cvqz mziyzmzy vgg ja ocznz jgy xdkczmn jwnjgzoz. rz'gg cvqz oj mzvggt nozk pk jpm bvhz da rz rvio oj fzzk jpm hznnvbzn nvaz.  Try - 2\n",
            "ykilqpano dwra najzanaz whh kb pdaoa khz yeldano kxokhapa. sa'hh dwra pk nawhhu opal ql kqn cwia eb sa swjp pk gaal kqn iaoowcao owba.  Try - 3\n",
            "zljmrqbop exsb obkaboba xii lc qebpb lia zfmebop lyplibqb. tb'ii exsb ql obxiiv pqbm rm lro dxjb fc tb txkq ql hbbm lro jbppxdbp pxcb.  Try - 4\n",
            "amknsrcpq fytc pclbcpcb yjj md rfcqc mjb agnfcpq mzqmjcrc. uc'jj fytc rm pcyjjw qrcn sn msp eykc gd uc uylr rm iccn msp kcqqyecq qydc.  Try - 5\n",
            "bnlotsdqr gzud qdmcdqdc zkk ne sgdrd nkc bhogdqr narnkdsd. vd'kk gzud sn qdzkkx rsdo to ntq fzld he vd vzms sn jddo ntq ldrrzfdr rzed.  Try - 6\n",
            "computers have rendered all of these old ciphers obsolete. we'll have to really step up our game if we want to keep our messages safe.  Try - 7\n",
            "dpnqvufst ibwf sfoefsfe bmm pg uiftf pme djqifst pctpmfuf. xf'mm ibwf up sfbmmz tufq vq pvs hbnf jg xf xbou up lffq pvs nfttbhft tbgf.  Try - 8\n",
            "eqorwvgtu jcxg tgpfgtgf cnn qh vjgug qnf ekrjgtu qduqngvg. yg'nn jcxg vq tgcnna uvgr wr qwt icog kh yg ycpv vq mggr qwt oguucigu uchg.  Try - 9\n",
            "frpsxwhuv kdyh uhqghuhg doo ri wkhvh rog flskhuv revrohwh. zh'oo kdyh wr uhdoob vwhs xs rxu jdph li zh zdqw wr nhhs rxu phvvdjhv vdih.  Try - 10\n",
            "gsqtyxivw lezi virhivih epp sj xliwi sph gmtlivw sfwspixi. ai'pp lezi xs vieppc wxit yt syv keqi mj ai aerx xs oiit syv qiwwekiw weji.  Try - 11\n",
            "htruzyjwx mfaj wjsijwji fqq tk ymjxj tqi hnumjwx tgxtqjyj. bj'qq mfaj yt wjfqqd xyju zu tzw lfrj nk bj bfsy yt pjju tzw rjxxfljx xfkj.  Try - 12\n",
            "iusvazkxy ngbk xktjkxkj grr ul znkyk urj iovnkxy uhyurkzk. ck'rr ngbk zu xkgrre yzkv av uax mgsk ol ck cgtz zu qkkv uax skyygmky yglk.  Try - 13\n",
            "jvtwbalyz ohcl yluklylk hss vm aolzl vsk jpwolyz vizvslal. dl'ss ohcl av ylhssf zalw bw vby nhtl pm dl dhua av rllw vby tlzzhnlz zhml.  Try - 14\n",
            "kwuxcbmza pidm zmvlmzml itt wn bpmam wtl kqxpmza wjawtmbm. em'tt pidm bw zmittg abmx cx wcz oium qn em eivb bw smmx wcz umaaioma ainm.  Try - 15\n",
            "lxvydcnab qjen anwmnanm juu xo cqnbn xum lryqnab xkbxuncn. fn'uu qjen cx anjuuh bcny dy xda pjvn ro fn fjwc cx tnny xda vnbbjpnb bjon.  Try - 16\n",
            "mywzedobc rkfo boxnobon kvv yp droco yvn mszrobc ylcyvodo. go'vv rkfo dy bokvvi cdoz ez yeb qkwo sp go gkxd dy uooz yeb wocckqoc ckpo.  Try - 17\n",
            "nzxafepcd slgp cpyopcpo lww zq espdp zwo ntaspcd zmdzwpep. hp'ww slgp ez cplwwj depa fa zfc rlxp tq hp hlye ez vppa zfc xpddlrpd dlqp.  Try - 18\n",
            "oaybgfqde tmhq dqzpqdqp mxx ar ftqeq axp oubtqde aneaxqfq. iq'xx tmhq fa dqmxxk efqb gb agd smyq ur iq imzf fa wqqb agd yqeemsqe emrq.  Try - 19\n",
            "pbzchgref unir eraqrerq nyy bs gurfr byq pvcuref bofbyrgr. jr'yy unir gb ernyyl fgrc hc bhe tnzr vs jr jnag gb xrrc bhe zrffntrf fnsr.  Try - 20\n",
            "qcadihsfg vojs fsbrsfsr ozz ct hvsgs czr qwdvsfg cpgczshs. ks'zz vojs hc fsozzm ghsd id cif uoas wt ks kobh hc yssd cif asggousg gots.  Try - 21\n",
            "rdbejitgh wpkt gtcstgts paa du iwtht das rxewtgh dqhdatit. lt'aa wpkt id gtpaan hite je djg vpbt xu lt lpci id ztte djg bthhpvth hput.  Try - 22\n",
            "secfkjuhi xqlu hudtuhut qbb ev jxuiu ebt syfxuhi eriebuju. mu'bb xqlu je huqbbo ijuf kf ekh wqcu yv mu mqdj je auuf ekh cuiiqwui iqvu.  Try - 23\n",
            "tfdglkvij yrmv iveuvivu rcc fw kyvjv fcu tzgyvij fsjfcvkv. nv'cc yrmv kf ivrccp jkvg lg fli xrdv zw nv nrek kf bvvg fli dvjjrxvj jrwv.  Try - 24\n",
            "ugehmlwjk zsnw jwfvwjwv sdd gx lzwkw gdv uahzwjk gtkgdwlw. ow'dd zsnw lg jwsddq klwh mh gmj ysew ax ow osfl lg cwwh gmj ewkksywk ksxw.  Try - 25\n",
            "vhfinmxkl atox kxgwxkxw tee hy maxlx hew vbiaxkl hulhexmx. px'ee atox mh kxteer lmxi ni hnk ztfx by px ptgm mh dxxi hnk fxlltzxl ltyx.  Try - 26\n",
            "wigjonylm bupy lyhxylyx uff iz nbymy ifx wcjbylm ivmifyny. qy'ff bupy ni lyuffs mnyj oj iol augy cz qy quhn ni eyyj iol gymmuaym muzy.  Try - 27\n",
            "xjhkpozmn cvqz mziyzmzy vgg ja ocznz jgy xdkczmn jwnjgzoz. rz'gg cvqz oj mzvggt nozk pk jpm bvhz da rz rvio oj fzzk jpm hznnvbzn nvaz.  Try - 28\n",
            "ykilqpano dwra najzanaz whh kb pdaoa khz yeldano kxokhapa. sa'hh dwra pk nawhhu opal ql kqn cwia eb sa swjp pk gaal kqn iaoowcao owba.  Try - 29\n",
            "zljmrqbop exsb obkaboba xii lc qebpb lia zfmebop lyplibqb. tb'ii exsb ql obxiiv pqbm rm lro dxjb fc tb txkq ql hbbm lro jbppxdbp pxcb.  Try - 30\n",
            "amknsrcpq fytc pclbcpcb yjj md rfcqc mjb agnfcpq mzqmjcrc. uc'jj fytc rm pcyjjw qrcn sn msp eykc gd uc uylr rm iccn msp kcqqyecq qydc.  Try - 31\n",
            "bnlotsdqr gzud qdmcdqdc zkk ne sgdrd nkc bhogdqr narnkdsd. vd'kk gzud sn qdzkkx rsdo to ntq fzld he vd vzms sn jddo ntq ldrrzfdr rzed.  Try - 32\n",
            "computers have rendered all of these old ciphers obsolete. we'll have to really step up our game if we want to keep our messages safe.  Try - 33\n",
            "dpnqvufst ibwf sfoefsfe bmm pg uiftf pme djqifst pctpmfuf. xf'mm ibwf up sfbmmz tufq vq pvs hbnf jg xf xbou up lffq pvs nfttbhft tbgf.  Try - 34\n",
            "eqorwvgtu jcxg tgpfgtgf cnn qh vjgug qnf ekrjgtu qduqngvg. yg'nn jcxg vq tgcnna uvgr wr qwt icog kh yg ycpv vq mggr qwt oguucigu uchg.  Try - 35\n",
            "frpsxwhuv kdyh uhqghuhg doo ri wkhvh rog flskhuv revrohwh. zh'oo kdyh wr uhdoob vwhs xs rxu jdph li zh zdqw wr nhhs rxu phvvdjhv vdih.  Try - 36\n",
            "gsqtyxivw lezi virhivih epp sj xliwi sph gmtlivw sfwspixi. ai'pp lezi xs vieppc wxit yt syv keqi mj ai aerx xs oiit syv qiwwekiw weji.  Try - 37\n",
            "htruzyjwx mfaj wjsijwji fqq tk ymjxj tqi hnumjwx tgxtqjyj. bj'qq mfaj yt wjfqqd xyju zu tzw lfrj nk bj bfsy yt pjju tzw rjxxfljx xfkj.  Try - 38\n",
            "iusvazkxy ngbk xktjkxkj grr ul znkyk urj iovnkxy uhyurkzk. ck'rr ngbk zu xkgrre yzkv av uax mgsk ol ck cgtz zu qkkv uax skyygmky yglk.  Try - 39\n",
            "jvtwbalyz ohcl yluklylk hss vm aolzl vsk jpwolyz vizvslal. dl'ss ohcl av ylhssf zalw bw vby nhtl pm dl dhua av rllw vby tlzzhnlz zhml.  Try - 40\n",
            "kwuxcbmza pidm zmvlmzml itt wn bpmam wtl kqxpmza wjawtmbm. em'tt pidm bw zmittg abmx cx wcz oium qn em eivb bw smmx wcz umaaioma ainm.  Try - 41\n",
            "lxvydcnab qjen anwmnanm juu xo cqnbn xum lryqnab xkbxuncn. fn'uu qjen cx anjuuh bcny dy xda pjvn ro fn fjwc cx tnny xda vnbbjpnb bjon.  Try - 42\n",
            "mywzedobc rkfo boxnobon kvv yp droco yvn mszrobc ylcyvodo. go'vv rkfo dy bokvvi cdoz ez yeb qkwo sp go gkxd dy uooz yeb wocckqoc ckpo.  Try - 43\n",
            "nzxafepcd slgp cpyopcpo lww zq espdp zwo ntaspcd zmdzwpep. hp'ww slgp ez cplwwj depa fa zfc rlxp tq hp hlye ez vppa zfc xpddlrpd dlqp.  Try - 44\n",
            "oaybgfqde tmhq dqzpqdqp mxx ar ftqeq axp oubtqde aneaxqfq. iq'xx tmhq fa dqmxxk efqb gb agd smyq ur iq imzf fa wqqb agd yqeemsqe emrq.  Try - 45\n",
            "pbzchgref unir eraqrerq nyy bs gurfr byq pvcuref bofbyrgr. jr'yy unir gb ernyyl fgrc hc bhe tnzr vs jr jnag gb xrrc bhe zrffntrf fnsr.  Try - 46\n",
            "qcadihsfg vojs fsbrsfsr ozz ct hvsgs czr qwdvsfg cpgczshs. ks'zz vojs hc fsozzm ghsd id cif uoas wt ks kobh hc yssd cif asggousg gots.  Try - 47\n",
            "rdbejitgh wpkt gtcstgts paa du iwtht das rxewtgh dqhdatit. lt'aa wpkt id gtpaan hite je djg vpbt xu lt lpci id ztte djg bthhpvth hput.  Try - 48\n",
            "secfkjuhi xqlu hudtuhut qbb ev jxuiu ebt syfxuhi eriebuju. mu'bb xqlu je huqbbo ijuf kf ekh wqcu yv mu mqdj je auuf ekh cuiiqwui iqvu.  Try - 49\n",
            "tfdglkvij yrmv iveuvivu rcc fw kyvjv fcu tzgyvij fsjfcvkv. nv'cc yrmv kf ivrccp jkvg lg fli xrdv zw nv nrek kf bvvg fli dvjjrxvj jrwv.  Try - 50\n",
            "ugehmlwjk zsnw jwfvwjwv sdd gx lzwkw gdv uahzwjk gtkgdwlw. ow'dd zsnw lg jwsddq klwh mh gmj ysew ax ow osfl lg cwwh gmj ewkksywk ksxw.  Try - 51\n",
            "vhfinmxkl atox kxgwxkxw tee hy maxlx hew vbiaxkl hulhexmx. px'ee atox mh kxteer lmxi ni hnk ztfx by px ptgm mh dxxi hnk fxlltzxl ltyx.  Try - 52\n",
            "wigjonylm bupy lyhxylyx uff iz nbymy ifx wcjbylm ivmifyny. qy'ff bupy ni lyuffs mnyj oj iol augy cz qy quhn ni eyyj iol gymmuaym muzy.  Try - 53\n",
            "xjhkpozmn cvqz mziyzmzy vgg ja ocznz jgy xdkczmn jwnjgzoz. rz'gg cvqz oj mzvggt nozk pk jpm bvhz da rz rvio oj fzzk jpm hznnvbzn nvaz.  Try - 54\n",
            "ykilqpano dwra najzanaz whh kb pdaoa khz yeldano kxokhapa. sa'hh dwra pk nawhhu opal ql kqn cwia eb sa swjp pk gaal kqn iaoowcao owba.  Try - 55\n",
            "zljmrqbop exsb obkaboba xii lc qebpb lia zfmebop lyplibqb. tb'ii exsb ql obxiiv pqbm rm lro dxjb fc tb txkq ql hbbm lro jbppxdbp pxcb.  Try - 56\n",
            "amknsrcpq fytc pclbcpcb yjj md rfcqc mjb agnfcpq mzqmjcrc. uc'jj fytc rm pcyjjw qrcn sn msp eykc gd uc uylr rm iccn msp kcqqyecq qydc.  Try - 57\n",
            "bnlotsdqr gzud qdmcdqdc zkk ne sgdrd nkc bhogdqr narnkdsd. vd'kk gzud sn qdzkkx rsdo to ntq fzld he vd vzms sn jddo ntq ldrrzfdr rzed.  Try - 58\n",
            "computers have rendered all of these old ciphers obsolete. we'll have to really step up our game if we want to keep our messages safe.  Try - 59\n",
            "dpnqvufst ibwf sfoefsfe bmm pg uiftf pme djqifst pctpmfuf. xf'mm ibwf up sfbmmz tufq vq pvs hbnf jg xf xbou up lffq pvs nfttbhft tbgf.  Try - 60\n",
            "eqorwvgtu jcxg tgpfgtgf cnn qh vjgug qnf ekrjgtu qduqngvg. yg'nn jcxg vq tgcnna uvgr wr qwt icog kh yg ycpv vq mggr qwt oguucigu uchg.  Try - 61\n",
            "frpsxwhuv kdyh uhqghuhg doo ri wkhvh rog flskhuv revrohwh. zh'oo kdyh wr uhdoob vwhs xs rxu jdph li zh zdqw wr nhhs rxu phvvdjhv vdih.  Try - 62\n",
            "gsqtyxivw lezi virhivih epp sj xliwi sph gmtlivw sfwspixi. ai'pp lezi xs vieppc wxit yt syv keqi mj ai aerx xs oiit syv qiwwekiw weji.  Try - 63\n",
            "htruzyjwx mfaj wjsijwji fqq tk ymjxj tqi hnumjwx tgxtqjyj. bj'qq mfaj yt wjfqqd xyju zu tzw lfrj nk bj bfsy yt pjju tzw rjxxfljx xfkj.  Try - 64\n",
            "iusvazkxy ngbk xktjkxkj grr ul znkyk urj iovnkxy uhyurkzk. ck'rr ngbk zu xkgrre yzkv av uax mgsk ol ck cgtz zu qkkv uax skyygmky yglk.  Try - 65\n",
            "jvtwbalyz ohcl yluklylk hss vm aolzl vsk jpwolyz vizvslal. dl'ss ohcl av ylhssf zalw bw vby nhtl pm dl dhua av rllw vby tlzzhnlz zhml.  Try - 66\n",
            "kwuxcbmza pidm zmvlmzml itt wn bpmam wtl kqxpmza wjawtmbm. em'tt pidm bw zmittg abmx cx wcz oium qn em eivb bw smmx wcz umaaioma ainm.  Try - 67\n",
            "lxvydcnab qjen anwmnanm juu xo cqnbn xum lryqnab xkbxuncn. fn'uu qjen cx anjuuh bcny dy xda pjvn ro fn fjwc cx tnny xda vnbbjpnb bjon.  Try - 68\n",
            "mywzedobc rkfo boxnobon kvv yp droco yvn mszrobc ylcyvodo. go'vv rkfo dy bokvvi cdoz ez yeb qkwo sp go gkxd dy uooz yeb wocckqoc ckpo.  Try - 69\n",
            "nzxafepcd slgp cpyopcpo lww zq espdp zwo ntaspcd zmdzwpep. hp'ww slgp ez cplwwj depa fa zfc rlxp tq hp hlye ez vppa zfc xpddlrpd dlqp.  Try - 70\n",
            "oaybgfqde tmhq dqzpqdqp mxx ar ftqeq axp oubtqde aneaxqfq. iq'xx tmhq fa dqmxxk efqb gb agd smyq ur iq imzf fa wqqb agd yqeemsqe emrq.  Try - 71\n",
            "pbzchgref unir eraqrerq nyy bs gurfr byq pvcuref bofbyrgr. jr'yy unir gb ernyyl fgrc hc bhe tnzr vs jr jnag gb xrrc bhe zrffntrf fnsr.  Try - 72\n",
            "qcadihsfg vojs fsbrsfsr ozz ct hvsgs czr qwdvsfg cpgczshs. ks'zz vojs hc fsozzm ghsd id cif uoas wt ks kobh hc yssd cif asggousg gots.  Try - 73\n",
            "rdbejitgh wpkt gtcstgts paa du iwtht das rxewtgh dqhdatit. lt'aa wpkt id gtpaan hite je djg vpbt xu lt lpci id ztte djg bthhpvth hput.  Try - 74\n",
            "secfkjuhi xqlu hudtuhut qbb ev jxuiu ebt syfxuhi eriebuju. mu'bb xqlu je huqbbo ijuf kf ekh wqcu yv mu mqdj je auuf ekh cuiiqwui iqvu.  Try - 75\n",
            "tfdglkvij yrmv iveuvivu rcc fw kyvjv fcu tzgyvij fsjfcvkv. nv'cc yrmv kf ivrccp jkvg lg fli xrdv zw nv nrek kf bvvg fli dvjjrxvj jrwv.  Try - 76\n",
            "ugehmlwjk zsnw jwfvwjwv sdd gx lzwkw gdv uahzwjk gtkgdwlw. ow'dd zsnw lg jwsddq klwh mh gmj ysew ax ow osfl lg cwwh gmj ewkksywk ksxw.  Try - 77\n",
            "vhfinmxkl atox kxgwxkxw tee hy maxlx hew vbiaxkl hulhexmx. px'ee atox mh kxteer lmxi ni hnk ztfx by px ptgm mh dxxi hnk fxlltzxl ltyx.  Try - 78\n",
            "wigjonylm bupy lyhxylyx uff iz nbymy ifx wcjbylm ivmifyny. qy'ff bupy ni lyuffs mnyj oj iol augy cz qy quhn ni eyyj iol gymmuaym muzy.  Try - 79\n",
            "xjhkpozmn cvqz mziyzmzy vgg ja ocznz jgy xdkczmn jwnjgzoz. rz'gg cvqz oj mzvggt nozk pk jpm bvhz da rz rvio oj fzzk jpm hznnvbzn nvaz.  Try - 80\n",
            "ykilqpano dwra najzanaz whh kb pdaoa khz yeldano kxokhapa. sa'hh dwra pk nawhhu opal ql kqn cwia eb sa swjp pk gaal kqn iaoowcao owba.  Try - 81\n",
            "zljmrqbop exsb obkaboba xii lc qebpb lia zfmebop lyplibqb. tb'ii exsb ql obxiiv pqbm rm lro dxjb fc tb txkq ql hbbm lro jbppxdbp pxcb.  Try - 82\n",
            "amknsrcpq fytc pclbcpcb yjj md rfcqc mjb agnfcpq mzqmjcrc. uc'jj fytc rm pcyjjw qrcn sn msp eykc gd uc uylr rm iccn msp kcqqyecq qydc.  Try - 83\n",
            "bnlotsdqr gzud qdmcdqdc zkk ne sgdrd nkc bhogdqr narnkdsd. vd'kk gzud sn qdzkkx rsdo to ntq fzld he vd vzms sn jddo ntq ldrrzfdr rzed.  Try - 84\n",
            "computers have rendered all of these old ciphers obsolete. we'll have to really step up our game if we want to keep our messages safe.  Try - 85\n",
            "dpnqvufst ibwf sfoefsfe bmm pg uiftf pme djqifst pctpmfuf. xf'mm ibwf up sfbmmz tufq vq pvs hbnf jg xf xbou up lffq pvs nfttbhft tbgf.  Try - 86\n",
            "eqorwvgtu jcxg tgpfgtgf cnn qh vjgug qnf ekrjgtu qduqngvg. yg'nn jcxg vq tgcnna uvgr wr qwt icog kh yg ycpv vq mggr qwt oguucigu uchg.  Try - 87\n",
            "frpsxwhuv kdyh uhqghuhg doo ri wkhvh rog flskhuv revrohwh. zh'oo kdyh wr uhdoob vwhs xs rxu jdph li zh zdqw wr nhhs rxu phvvdjhv vdih.  Try - 88\n",
            "gsqtyxivw lezi virhivih epp sj xliwi sph gmtlivw sfwspixi. ai'pp lezi xs vieppc wxit yt syv keqi mj ai aerx xs oiit syv qiwwekiw weji.  Try - 89\n",
            "htruzyjwx mfaj wjsijwji fqq tk ymjxj tqi hnumjwx tgxtqjyj. bj'qq mfaj yt wjfqqd xyju zu tzw lfrj nk bj bfsy yt pjju tzw rjxxfljx xfkj.  Try - 90\n",
            "iusvazkxy ngbk xktjkxkj grr ul znkyk urj iovnkxy uhyurkzk. ck'rr ngbk zu xkgrre yzkv av uax mgsk ol ck cgtz zu qkkv uax skyygmky yglk.  Try - 91\n",
            "jvtwbalyz ohcl yluklylk hss vm aolzl vsk jpwolyz vizvslal. dl'ss ohcl av ylhssf zalw bw vby nhtl pm dl dhua av rllw vby tlzzhnlz zhml.  Try - 92\n",
            "kwuxcbmza pidm zmvlmzml itt wn bpmam wtl kqxpmza wjawtmbm. em'tt pidm bw zmittg abmx cx wcz oium qn em eivb bw smmx wcz umaaioma ainm.  Try - 93\n",
            "lxvydcnab qjen anwmnanm juu xo cqnbn xum lryqnab xkbxuncn. fn'uu qjen cx anjuuh bcny dy xda pjvn ro fn fjwc cx tnny xda vnbbjpnb bjon.  Try - 94\n",
            "mywzedobc rkfo boxnobon kvv yp droco yvn mszrobc ylcyvodo. go'vv rkfo dy bokvvi cdoz ez yeb qkwo sp go gkxd dy uooz yeb wocckqoc ckpo.  Try - 95\n",
            "nzxafepcd slgp cpyopcpo lww zq espdp zwo ntaspcd zmdzwpep. hp'ww slgp ez cplwwj depa fa zfc rlxp tq hp hlye ez vppa zfc xpddlrpd dlqp.  Try - 96\n",
            "oaybgfqde tmhq dqzpqdqp mxx ar ftqeq axp oubtqde aneaxqfq. iq'xx tmhq fa dqmxxk efqb gb agd smyq ur iq imzf fa wqqb agd yqeemsqe emrq.  Try - 97\n",
            "pbzchgref unir eraqrerq nyy bs gurfr byq pvcuref bofbyrgr. jr'yy unir gb ernyyl fgrc hc bhe tnzr vs jr jnag gb xrrc bhe zrffntrf fnsr.  Try - 98\n",
            "qcadihsfg vojs fsbrsfsr ozz ct hvsgs czr qwdvsfg cpgczshs. ks'zz vojs hc fsozzm ghsd id cif uoas wt ks kobh hc yssd cif asggousg gots.  Try - 99\n"
          ]
        }
      ],
      "source": [
        "for i in range(0,100):\n",
        "  print(decipher(\"vhfinmxkl atox kxgwxkxw tee hy maxlx hew vbiaxkl hulhexmx. px'ee atox mh kxteer lmxi ni hnk ztfx by px ptgm mh dxxi hnk fxlltzxl ltyx.\", i), \"Try - {}\".format(i))"
      ]
    },
    {
      "cell_type": "markdown",
      "metadata": {
        "id": "zZHtAv526SoV"
      },
      "source": [
        "#### Step 5: The Vigenère Cipher\n",
        "\n",
        "Great work! While you were working on the brute force cracking of the cipher, Vishal sent over another letter. That guy is a letter machine!\n",
        "\n",
        "    Salutations! As you can see, technology has made brute forcing simple ciphers like the Caesar Cipher extremely easy, and us crypto-enthusiasts have had to get more creative and use more complicated ciphers. This next cipher I'm going to teach you is the Vigenère Cipher, invented by an Italian cryptologist named Giovan Battista Bellaso (cool name eh?) in the 16th century, but named after another cryptologist from the 16th century, Blaise de Vigenère.\n",
        "            \n",
        "    The Vigenère Cipher is a polyalphabetic substitution cipher, as opposed to the Caesar Cipher which was a monoalphabetic substitution cipher. What this means is that opposed to having a single shift that is applied to every letter, the Vigenère Cipher has a different shift for each individual letter. The value of the shift for each letter is determined by a given keyword.\n",
        "           \n",
        "    Consider the message:\n",
        "           \n",
        "        barry is the spy\n",
        "\n",
        "    If we want to code this message, first we choose a keyword. For this example, we'll use the keyword\n",
        "           \n",
        "        dog\n",
        "               \n",
        "    Now we repeat the keyword over and over to generate a keyword phrase that is the same length as the message we want to code. So if we want to code the message \"barry is the spy\" our keyword phrase is \"dogdo gd ogd ogd\". Now we are ready to start coding our message. We shift each letter of our message by the place value of the corresponding letter in the keyword phrase, assuming that \"a\" has a place value of 0, \"b\" has a place value of 1, and so forth.\n",
        "\n",
        "                  message:    b  a  r  r  y    i  s    t  h  e    s  p  y\n",
        "                \n",
        "           keyword phrase:    d  o  g  d  o    g  d    o  g  d    o  g  d\n",
        "                 \n",
        "    resulting place value:    24 12 11 14 10   2  15   5  1  1    4  9  21\n",
        "      \n",
        "    So we shift \"b\", which has an index of 1, by the index of \"d\", which is 3. This gives us an place value of 24, which is \"y\". Remember to loop back around when we reach either end of the alphabet! Then continue the trend: we shift \"a\" by the place value of \"o\", 14, and get \"m\", we shift \"r\" by the place value of \"g\", 15, and get \"l\", shift the next \"r\" by 4 places and get \"o\", and so forth. Once we complete all the shifts we end up with our coded message:\n",
        "            \n",
        "        ymlok cp fbb ejv\n",
        "                \n",
        "    As you can imagine, this is a lot harder to crack without knowing the keyword! So now comes the hard part. I'll give you a message and the keyword, and you'll see if you can figure out how to crack it! Ready? Okay here's my message:\n",
        "            \n",
        "        txm srom vkda gl lzlgzr qpdb? fepb ejac! ubr imn tapludwy mhfbz cza ruxzal wg zztcgcexxch!\n",
        "                \n",
        "    and the keyword to decode my message is\n",
        "            \n",
        "        friends\n",
        "                \n",
        "    Because that's what we are! Good luck friend!\n",
        "           \n",
        "And there it is. Vishal has given you quite the assignment this time! Try to decode his message. It may be helpful to create a function that takes two parameters &mdash; the coded message and the keyword &mdash; then work towards a solution from there."
      ]
    },
    {
      "cell_type": "markdown",
      "metadata": {
        "id": "DgoRYLBF6SoV"
      },
      "source": [
        "Stuck? Open this cell to view Hints:\n",
        "\n",
        "<span hidden>\n",
        "Like before, you'll only want to shift characters that are in the alphabet. Your keyword phrase should ignore any spaces and punctuation in the original message.\n",
        "\n",
        "For example, given the message\n",
        "\n",
        "  ciphers are awesome!\n",
        "\n",
        "and the keyword\n",
        "\n",
        "  cat\n",
        "\n",
        "the keyword phrase would be:\n",
        "\n",
        "  catcatc atc atcatca\n",
        "\n",
        "and the encoded string would be:\n",
        "\n",
        "  aiwfeyq ayc adcsvke!\n",
        "</span>"
      ]
    },
    {
      "cell_type": "code",
      "execution_count": 338,
      "metadata": {
        "id": "R-vpCjc46SoV"
      },
      "outputs": [],
      "source": [
        "def align_key(lst, keywd):\n",
        "  key_str = \"\"\n",
        "  temp_var = 0\n",
        "  for i in lst:\n",
        "    if i in lst_alphabets:\n",
        "      for k in range(len(keywd)):\n",
        "        if temp_var <= k:\n",
        "          key_str += keywd[temp_var]\n",
        "          temp_var += 1\n",
        "          break\n",
        "        elif temp_var > len(keywd) - 1:\n",
        "          temp_var = 0\n",
        "          continue\n",
        "    elif i == \" \":\n",
        "      key_str += \" \"\n",
        "    else:\n",
        "      key_str += i\n",
        "  return key_str\n",
        "\n",
        "key = align_key(\"ckjbk, cckpu rrbklunn xonxaa cun okd yugdc fzrj!\", \"fucker\")"
      ]
    },
    {
      "cell_type": "code",
      "source": [
        "lst_coded = \"ckjbk, cckpu rrbklunn xonxaa cun okd yugdc fzrj!\"\n",
        "print(key)\n",
        "print(lst_coded)\n",
        "len(key)\n",
        "len(lst_coded)"
      ],
      "metadata": {
        "colab": {
          "base_uri": "https://localhost:8080/"
        },
        "id": "qYnp9SPi3sg8",
        "outputId": "6df0f6c9-6d46-4887-bca0-0fee33fd4ef0"
      },
      "execution_count": 340,
      "outputs": [
        {
          "output_type": "stream",
          "name": "stdout",
          "text": [
            "fucke, rfuck erfucker fucker fuc ker fucke rfuc!\n",
            "ckjbk, cckpu rrbklunn xonxaa cun okd yugdc fzrj!\n"
          ]
        },
        {
          "output_type": "execute_result",
          "data": {
            "text/plain": [
              "48"
            ]
          },
          "metadata": {},
          "execution_count": 340
        }
      ]
    },
    {
      "cell_type": "code",
      "source": [
        "decoded = \"\"\n",
        "for i in range(len(key)):\n",
        "  if lst_coded[i] in lst_alphabets and key[i] in lst_alphabets:\n",
        "      decoded += decipher(lst_coded[i], lst_alphabets.index(key[i])).strip()\n",
        "  elif lst_coded[i] == \" \":\n",
        "    decoded += \" \"\n",
        "  else:\n",
        "    decoded += lst_coded[i]\n",
        "\n",
        "print(decoded.strip())\n",
        "\n",
        "# print(decipher(lst_coded[12], lst_alphabets.index(key[12])))"
      ],
      "metadata": {
        "colab": {
          "base_uri": "https://localhost:8080/"
        },
        "id": "VN9yPKZ8zFz7",
        "outputId": "d4672bbe-86a5-400f-ceec-55ff23456a55"
      },
      "execution_count": 341,
      "outputs": [
        {
          "output_type": "stream",
          "name": "stdout",
          "text": [
            "hello, there vigenere cipher hop you doing well!\n"
          ]
        }
      ]
    },
    {
      "cell_type": "code",
      "source": [
        "key = align_key(\"hello, there vigenere cipher hope you doing well! asshole!\", \"fucker\")\n",
        "print(key)\n",
        "lst_coded = \"hello, there vigenere cipher hope you doing well! asshole!\"\n",
        "coded = \"\"\n",
        "for i in range(len(key)):\n",
        "  if lst_coded[i] in lst_alphabets and key[i] in lst_alphabets:\n",
        "      coded += cipher(lst_coded[i], lst_alphabets.index(key[i])).strip()\n",
        "  elif lst_coded[i] == \" \":\n",
        "    coded += \" \"\n",
        "  else:\n",
        "    coded += lst_coded[i]\n",
        "\n",
        "eno = coded.strip()"
      ],
      "metadata": {
        "colab": {
          "base_uri": "https://localhost:8080/"
        },
        "id": "tlUUoVbTFB48",
        "outputId": "26a96961-f803-446b-841a-f5a637e93446"
      },
      "execution_count": 342,
      "outputs": [
        {
          "output_type": "stream",
          "name": "stdout",
          "text": [
            "fucke, rfuck erfucker fucker fuck erf ucker fuck! erfucke!\n"
          ]
        }
      ]
    },
    {
      "cell_type": "markdown",
      "metadata": {
        "collapsed": true,
        "id": "8z6OEa2m6SoV"
      },
      "source": [
        "#### Step 6: Send a message with the  Vigenère Cipher\n",
        "Great work decoding the message. For your final task, write a function that can encode a message using a given keyword and write out a message to send to Vishal!\n",
        "\n",
        "*As a bonus, try calling your decoder function on the result of your encryption function. You should get the original message back!*"
      ]
    },
    {
      "cell_type": "code",
      "execution_count": 343,
      "metadata": {
        "id": "QBOe8Iiy6SoW",
        "colab": {
          "base_uri": "https://localhost:8080/"
        },
        "outputId": "c5dc0b57-a556-4118-f636-adc3f8316e63"
      },
      "outputs": [
        {
          "output_type": "stream",
          "name": "stdout",
          "text": [
            "message ckjbk, cckpu rrbklunn xonxaa cunu uxp jmyjp rkjb! wbnnmba! and key is fucker\n"
          ]
        }
      ],
      "source": [
        "print(\"message \" + eno + \" and key is \" + \"fucker\")"
      ]
    },
    {
      "cell_type": "code",
      "source": [],
      "metadata": {
        "id": "_6WXVNMuMKoH"
      },
      "execution_count": null,
      "outputs": []
    },
    {
      "cell_type": "markdown",
      "metadata": {
        "id": "rwvJ44ib6SoW"
      },
      "source": [
        "#### Conclusion\n",
        "Over the course of this project you've learned about two different cipher methods and have used your Python skills to code and decode messages. There are all types of other facinating ciphers out there to explore, and Python is the perfect language to implement them with, so go exploring!"
      ]
    }
  ],
  "metadata": {
    "kernelspec": {
      "display_name": "Python 3",
      "language": "python",
      "name": "python3"
    },
    "language_info": {
      "codemirror_mode": {
        "name": "ipython",
        "version": 3
      },
      "file_extension": ".py",
      "mimetype": "text/x-python",
      "name": "python",
      "nbconvert_exporter": "python",
      "pygments_lexer": "ipython3",
      "version": "3.7.4"
    },
    "colab": {
      "provenance": []
    }
  },
  "nbformat": 4,
  "nbformat_minor": 0
}